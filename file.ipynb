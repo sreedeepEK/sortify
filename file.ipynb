{
 "cells": [
  {
   "cell_type": "code",
   "execution_count": 77,
   "metadata": {},
   "outputs": [],
   "source": [
    "import pandas as pd \n",
    "df = pd.read_csv(\"https://raw.githubusercontent.com/GokuMohandas/Made-With-ML/main/datasets/dataset.csv\")"
   ]
  },
  {
   "cell_type": "code",
   "execution_count": 78,
   "metadata": {},
   "outputs": [
    {
     "data": {
      "application/vnd.microsoft.datawrangler.viewer.v0+json": {
       "columns": [
        {
         "name": "index",
         "rawType": "int64",
         "type": "integer"
        },
        {
         "name": "id",
         "rawType": "int64",
         "type": "integer"
        },
        {
         "name": "created_on",
         "rawType": "object",
         "type": "string"
        },
        {
         "name": "title",
         "rawType": "object",
         "type": "string"
        },
        {
         "name": "description",
         "rawType": "object",
         "type": "string"
        },
        {
         "name": "tag",
         "rawType": "object",
         "type": "string"
        }
       ],
       "conversionMethod": "pd.DataFrame",
       "ref": "540c5b9d-babe-425e-97c5-5038eff7c600",
       "rows": [
        [
         "0",
         "6",
         "2020-02-20 06:43:18",
         "Comparison between YOLO and RCNN on real world videos",
         "Bringing theory to experiment is cool. We can easily train models in colab and find the results in minutes.",
         "computer-vision"
        ],
        [
         "1",
         "7",
         "2020-02-20 06:47:21",
         "Show, Infer & Tell: Contextual Inference for Creative Captioning",
         "The beauty of the work lies in the way it architects the fundamental idea that humans look at the overall image and then individual pieces of it.\n",
         "computer-vision"
        ],
        [
         "2",
         "9",
         "2020-02-24 16:24:45",
         "Awesome Graph Classification",
         "A collection of important graph embedding, classification and representation learning papers with implementations.",
         "other"
        ],
        [
         "3",
         "15",
         "2020-02-28 23:55:26",
         "Awesome Monte Carlo Tree Search",
         "A curated list of Monte Carlo tree search papers with implementations. ",
         "other"
        ],
        [
         "4",
         "25",
         "2020-03-07 23:04:31",
         "AttentionWalk",
         "A PyTorch Implementation of \"Watch Your Step: Learning Node Embeddings via Graph Attention\" (NeurIPS 2018). ",
         "other"
        ]
       ],
       "shape": {
        "columns": 5,
        "rows": 5
       }
      },
      "text/html": [
       "<div>\n",
       "<style scoped>\n",
       "    .dataframe tbody tr th:only-of-type {\n",
       "        vertical-align: middle;\n",
       "    }\n",
       "\n",
       "    .dataframe tbody tr th {\n",
       "        vertical-align: top;\n",
       "    }\n",
       "\n",
       "    .dataframe thead th {\n",
       "        text-align: right;\n",
       "    }\n",
       "</style>\n",
       "<table border=\"1\" class=\"dataframe\">\n",
       "  <thead>\n",
       "    <tr style=\"text-align: right;\">\n",
       "      <th></th>\n",
       "      <th>id</th>\n",
       "      <th>created_on</th>\n",
       "      <th>title</th>\n",
       "      <th>description</th>\n",
       "      <th>tag</th>\n",
       "    </tr>\n",
       "  </thead>\n",
       "  <tbody>\n",
       "    <tr>\n",
       "      <th>0</th>\n",
       "      <td>6</td>\n",
       "      <td>2020-02-20 06:43:18</td>\n",
       "      <td>Comparison between YOLO and RCNN on real world...</td>\n",
       "      <td>Bringing theory to experiment is cool. We can ...</td>\n",
       "      <td>computer-vision</td>\n",
       "    </tr>\n",
       "    <tr>\n",
       "      <th>1</th>\n",
       "      <td>7</td>\n",
       "      <td>2020-02-20 06:47:21</td>\n",
       "      <td>Show, Infer &amp; Tell: Contextual Inference for C...</td>\n",
       "      <td>The beauty of the work lies in the way it arch...</td>\n",
       "      <td>computer-vision</td>\n",
       "    </tr>\n",
       "    <tr>\n",
       "      <th>2</th>\n",
       "      <td>9</td>\n",
       "      <td>2020-02-24 16:24:45</td>\n",
       "      <td>Awesome Graph Classification</td>\n",
       "      <td>A collection of important graph embedding, cla...</td>\n",
       "      <td>other</td>\n",
       "    </tr>\n",
       "    <tr>\n",
       "      <th>3</th>\n",
       "      <td>15</td>\n",
       "      <td>2020-02-28 23:55:26</td>\n",
       "      <td>Awesome Monte Carlo Tree Search</td>\n",
       "      <td>A curated list of Monte Carlo tree search pape...</td>\n",
       "      <td>other</td>\n",
       "    </tr>\n",
       "    <tr>\n",
       "      <th>4</th>\n",
       "      <td>25</td>\n",
       "      <td>2020-03-07 23:04:31</td>\n",
       "      <td>AttentionWalk</td>\n",
       "      <td>A PyTorch Implementation of \"Watch Your Step: ...</td>\n",
       "      <td>other</td>\n",
       "    </tr>\n",
       "  </tbody>\n",
       "</table>\n",
       "</div>"
      ],
      "text/plain": [
       "   id           created_on                                              title  \\\n",
       "0   6  2020-02-20 06:43:18  Comparison between YOLO and RCNN on real world...   \n",
       "1   7  2020-02-20 06:47:21  Show, Infer & Tell: Contextual Inference for C...   \n",
       "2   9  2020-02-24 16:24:45                       Awesome Graph Classification   \n",
       "3  15  2020-02-28 23:55:26                    Awesome Monte Carlo Tree Search   \n",
       "4  25  2020-03-07 23:04:31                                      AttentionWalk   \n",
       "\n",
       "                                         description              tag  \n",
       "0  Bringing theory to experiment is cool. We can ...  computer-vision  \n",
       "1  The beauty of the work lies in the way it arch...  computer-vision  \n",
       "2  A collection of important graph embedding, cla...            other  \n",
       "3  A curated list of Monte Carlo tree search pape...            other  \n",
       "4  A PyTorch Implementation of \"Watch Your Step: ...            other  "
      ]
     },
     "execution_count": 78,
     "metadata": {},
     "output_type": "execute_result"
    }
   ],
   "source": [
    "df_head = df.head()\n",
    "df_head"
   ]
  },
  {
   "cell_type": "code",
   "execution_count": 79,
   "metadata": {},
   "outputs": [
    {
     "data": {
      "application/vnd.microsoft.datawrangler.viewer.v0+json": {
       "columns": [
        {
         "name": "index",
         "rawType": "int64",
         "type": "integer"
        },
        {
         "name": "id",
         "rawType": "int64",
         "type": "integer"
        },
        {
         "name": "created_on",
         "rawType": "object",
         "type": "string"
        },
        {
         "name": "title",
         "rawType": "object",
         "type": "string"
        },
        {
         "name": "description",
         "rawType": "object",
         "type": "string"
        },
        {
         "name": "tag",
         "rawType": "object",
         "type": "string"
        }
       ],
       "conversionMethod": "pd.DataFrame",
       "ref": "fcff3ea1-a9c0-4c10-91ad-1066a4fa4ee2",
       "rows": [
        [
         "759",
         "2431",
         "2020-10-05 12:36:02",
         "A Survey of the State of Explainable AI for NLP",
         "Overview of the operations and explainability techniques currently available for generating explanations for NLP model predictions.",
         "natural-language-processing"
        ],
        [
         "760",
         "2432",
         "2020-10-05 13:09:58",
         "Topic Modeling with BERT",
         "Leveraging 🤗 Transformers and a class-based TF-IDF to create dense clusters allowing for easily interpretable topics. ",
         "natural-language-processing"
        ],
        [
         "761",
         "2434",
         "2020-10-06 02:13:01",
         "OpenMMLab Computer Vision",
         "MMCV is a python library for CV research and supports many research projects such as object detection, segmentation, pose estimation, action classification.\n\n",
         "computer-vision"
        ],
        [
         "762",
         "2436",
         "2020-10-06 13:29:44",
         "Machine Learning Methods Explained (+ Examples)",
         "Most common techniques used in data science projects; get to know them through easy-to-understand examples and put them into practice in your own ML projects!",
         "other"
        ],
        [
         "763",
         "2437",
         "2020-10-06 14:53:39",
         "Rasoee",
         "A powerful web and mobile application that identifies food dishes from a given input image, and provides an ingredient list along with relevant recipes.",
         "computer-vision"
        ]
       ],
       "shape": {
        "columns": 5,
        "rows": 5
       }
      },
      "text/html": [
       "<div>\n",
       "<style scoped>\n",
       "    .dataframe tbody tr th:only-of-type {\n",
       "        vertical-align: middle;\n",
       "    }\n",
       "\n",
       "    .dataframe tbody tr th {\n",
       "        vertical-align: top;\n",
       "    }\n",
       "\n",
       "    .dataframe thead th {\n",
       "        text-align: right;\n",
       "    }\n",
       "</style>\n",
       "<table border=\"1\" class=\"dataframe\">\n",
       "  <thead>\n",
       "    <tr style=\"text-align: right;\">\n",
       "      <th></th>\n",
       "      <th>id</th>\n",
       "      <th>created_on</th>\n",
       "      <th>title</th>\n",
       "      <th>description</th>\n",
       "      <th>tag</th>\n",
       "    </tr>\n",
       "  </thead>\n",
       "  <tbody>\n",
       "    <tr>\n",
       "      <th>759</th>\n",
       "      <td>2431</td>\n",
       "      <td>2020-10-05 12:36:02</td>\n",
       "      <td>A Survey of the State of Explainable AI for NLP</td>\n",
       "      <td>Overview of the operations and explainability ...</td>\n",
       "      <td>natural-language-processing</td>\n",
       "    </tr>\n",
       "    <tr>\n",
       "      <th>760</th>\n",
       "      <td>2432</td>\n",
       "      <td>2020-10-05 13:09:58</td>\n",
       "      <td>Topic Modeling with BERT</td>\n",
       "      <td>Leveraging 🤗 Transformers and a class-based TF...</td>\n",
       "      <td>natural-language-processing</td>\n",
       "    </tr>\n",
       "    <tr>\n",
       "      <th>761</th>\n",
       "      <td>2434</td>\n",
       "      <td>2020-10-06 02:13:01</td>\n",
       "      <td>OpenMMLab Computer Vision</td>\n",
       "      <td>MMCV is a python library for CV research and s...</td>\n",
       "      <td>computer-vision</td>\n",
       "    </tr>\n",
       "    <tr>\n",
       "      <th>762</th>\n",
       "      <td>2436</td>\n",
       "      <td>2020-10-06 13:29:44</td>\n",
       "      <td>Machine Learning Methods Explained (+ Examples)</td>\n",
       "      <td>Most common techniques used in data science pr...</td>\n",
       "      <td>other</td>\n",
       "    </tr>\n",
       "    <tr>\n",
       "      <th>763</th>\n",
       "      <td>2437</td>\n",
       "      <td>2020-10-06 14:53:39</td>\n",
       "      <td>Rasoee</td>\n",
       "      <td>A powerful web and mobile application that ide...</td>\n",
       "      <td>computer-vision</td>\n",
       "    </tr>\n",
       "  </tbody>\n",
       "</table>\n",
       "</div>"
      ],
      "text/plain": [
       "       id           created_on  \\\n",
       "759  2431  2020-10-05 12:36:02   \n",
       "760  2432  2020-10-05 13:09:58   \n",
       "761  2434  2020-10-06 02:13:01   \n",
       "762  2436  2020-10-06 13:29:44   \n",
       "763  2437  2020-10-06 14:53:39   \n",
       "\n",
       "                                               title  \\\n",
       "759  A Survey of the State of Explainable AI for NLP   \n",
       "760                         Topic Modeling with BERT   \n",
       "761                        OpenMMLab Computer Vision   \n",
       "762  Machine Learning Methods Explained (+ Examples)   \n",
       "763                                           Rasoee   \n",
       "\n",
       "                                           description  \\\n",
       "759  Overview of the operations and explainability ...   \n",
       "760  Leveraging 🤗 Transformers and a class-based TF...   \n",
       "761  MMCV is a python library for CV research and s...   \n",
       "762  Most common techniques used in data science pr...   \n",
       "763  A powerful web and mobile application that ide...   \n",
       "\n",
       "                             tag  \n",
       "759  natural-language-processing  \n",
       "760  natural-language-processing  \n",
       "761              computer-vision  \n",
       "762                        other  \n",
       "763              computer-vision  "
      ]
     },
     "execution_count": 79,
     "metadata": {},
     "output_type": "execute_result"
    }
   ],
   "source": [
    "df_tail = df.tail(5)\n",
    "df_tail"
   ]
  },
  {
   "cell_type": "code",
   "execution_count": 80,
   "metadata": {},
   "outputs": [
    {
     "data": {
      "text/plain": [
       "tag\n",
       "natural-language-processing    310\n",
       "computer-vision                285\n",
       "other                          106\n",
       "mlops                           63\n",
       "Name: count, dtype: int64"
      ]
     },
     "execution_count": 80,
     "metadata": {},
     "output_type": "execute_result"
    }
   ],
   "source": [
    "df.tag.value_counts()"
   ]
  },
  {
   "cell_type": "code",
   "execution_count": 81,
   "metadata": {},
   "outputs": [],
   "source": [
    "from sklearn.model_selection import train_test_split \n",
    "\n",
    "test_size = 0.2\n",
    "train_df, val_df = train_test_split(df, stratify=df.tag, test_size=test_size, random_state=40)"
   ]
  },
  {
   "cell_type": "code",
   "execution_count": 82,
   "metadata": {},
   "outputs": [
    {
     "data": {
      "text/plain": [
       "tag\n",
       "natural-language-processing    248\n",
       "computer-vision                228\n",
       "other                           85\n",
       "mlops                           50\n",
       "Name: count, dtype: int64"
      ]
     },
     "execution_count": 82,
     "metadata": {},
     "output_type": "execute_result"
    }
   ],
   "source": [
    "train_df.tag.value_counts()"
   ]
  },
  {
   "cell_type": "code",
   "execution_count": 83,
   "metadata": {},
   "outputs": [
    {
     "data": {
      "text/plain": [
       "tag\n",
       "natural-language-processing    62\n",
       "computer-vision                57\n",
       "other                          21\n",
       "mlops                          13\n",
       "Name: count, dtype: int64"
      ]
     },
     "execution_count": 83,
     "metadata": {},
     "output_type": "execute_result"
    }
   ],
   "source": [
    "val_df.tag.value_counts()"
   ]
  },
  {
   "cell_type": "code",
   "execution_count": 84,
   "metadata": {},
   "outputs": [
    {
     "data": {
      "text/plain": [
       "tag\n",
       "natural-language-processing    248\n",
       "computer-vision                228\n",
       "other                           84\n",
       "mlops                           52\n",
       "Name: count, dtype: int64"
      ]
     },
     "execution_count": 84,
     "metadata": {},
     "output_type": "execute_result"
    }
   ],
   "source": [
    "# we are using this to match the propotion of the training dataset\n",
    "\n",
    "val_df.tag.value_counts() * int((1 - test_size) / test_size)"
   ]
  },
  {
   "cell_type": "code",
   "execution_count": 85,
   "metadata": {},
   "outputs": [],
   "source": [
    "# EDA \n",
    "\n",
    "from collections import Counter\n",
    "import matplotlib.pyplot as plt\n",
    "import seaborn as sns; sns.set_theme()\n",
    "import warnings; warnings.filterwarnings(\"ignore\")\n",
    "from wordcloud import WordCloud, STOPWORDS"
   ]
  },
  {
   "cell_type": "code",
   "execution_count": 86,
   "metadata": {},
   "outputs": [
    {
     "data": {
      "text/plain": [
       "[('natural-language-processing', 310),\n",
       " ('computer-vision', 285),\n",
       " ('other', 106),\n",
       " ('mlops', 63)]"
      ]
     },
     "execution_count": 86,
     "metadata": {},
     "output_type": "execute_result"
    }
   ],
   "source": [
    "#most common tags\n",
    "\n",
    "all_tags = Counter(df.tag)\n",
    "all_tags.most_common()"
   ]
  },
  {
   "cell_type": "code",
   "execution_count": 87,
   "metadata": {},
   "outputs": [
    {
     "data": {
      "image/png": "[encoded data removed]",
      "text/plain": [
       "<Figure size 1000x300 with 1 Axes>"
      ]
     },
     "metadata": {},
     "output_type": "display_data"
    }
   ],
   "source": [
    "\n",
    "#splitting the tags and count using the zip function \n",
    "tags, tag_counts = zip(*all_tags.most_common())\n",
    "\n",
    "\n",
    "plt.figure(figsize=(10, 3))\n",
    "ax = sns.barplot(x=list(tags), y=list(tag_counts))\n",
    "ax.set_xticklabels(tags, rotation=0, fontsize=8)\n",
    "plt.title(\"Tag distribution\", fontsize=14)\n",
    "plt.ylabel(\"# of projects\", fontsize=12)\n",
    "plt.show()"
   ]
  },
  {
   "cell_type": "code",
   "execution_count": 88,
   "metadata": {},
   "outputs": [
    {
     "data": {
      "text/plain": [
       "<matplotlib.image.AxesImage at 0x1f201378c10>"
      ]
     },
     "execution_count": 88,
     "metadata": {},
     "output_type": "execute_result"
    },
    {
     "data": {
      "image/png": "[encoded data removed]",
      "text/plain": [
       "<Figure size 1000x300 with 1 Axes>"
      ]
     },
     "metadata": {},
     "output_type": "display_data"
    }
   ],
   "source": [
    "tag=\"natural-language-processing\"\n",
    "plt.figure(figsize=(10, 3))\n",
    "subset = df[df.tag==tag]\n",
    "text = subset.title.values\n",
    "cloud = WordCloud(\n",
    "    stopwords=STOPWORDS, background_color=\"black\", collocations=False,\n",
    "    width=500, height=300).generate(\" \".join(text))\n",
    "plt.axis(\"off\")\n",
    "plt.imshow(cloud)"
   ]
  },
  {
   "cell_type": "code",
   "execution_count": 89,
   "metadata": {},
   "outputs": [],
   "source": [
    "import json\n",
    "import nltk \n",
    "from nltk.corpus import stopwords\n",
    "from nltk.stem import PorterStemmer \n",
    "\n",
    "import re"
   ]
  },
  {
   "cell_type": "code",
   "execution_count": 90,
   "metadata": {},
   "outputs": [],
   "source": [
    "df[\"text\"] = df.title + \" \" + df.description "
   ]
  },
  {
   "cell_type": "code",
   "execution_count": 91,
   "metadata": {},
   "outputs": [
    {
     "name": "stderr",
     "output_type": "stream",
     "text": [
      "[nltk_data] Downloading package stopwords to\n",
      "[nltk_data]     C:\\Users\\heysr\\AppData\\Roaming\\nltk_data...\n",
      "[nltk_data]   Package stopwords is already up-to-date!\n"
     ]
    }
   ],
   "source": [
    "nltk.download(\"stopwords\")\n",
    "STOPWORDS = stopwords.words(\"english\")"
   ]
  },
  {
   "cell_type": "code",
   "execution_count": 92,
   "metadata": {},
   "outputs": [],
   "source": [
    "def clean_text(text, stopwords=STOPWORDS):\n",
    "    \"\"\"Clean raw text string.\"\"\"\n",
    "    # Lower\n",
    "    text = text.lower()\n",
    "\n",
    "    # Remove stopwords\n",
    "    pattern = re.compile(r'\\b(' + r\"|\".join(stopwords) + r\")\\b\\s*\")\n",
    "    text = pattern.sub('', text)\n",
    "\n",
    "    # Spacing and filters\n",
    "    text = re.sub(r\"([!\\\"'#$%&()*\\+,-./:;<=>?@\\\\\\[\\]^_`{|}~])\", r\" \\1 \", text)  # add spacing\n",
    "    text = re.sub(\"[^A-Za-z0-9]+\", \" \", text)  # remove non alphanumeric chars\n",
    "    text = re.sub(\" +\", \" \", text)  # remove multiple spaces\n",
    "    text = text.strip()  # strip white space at the ends\n",
    "    text = re.sub(r\"http\\S+\", \"\", text)  #  remove links\n",
    "\n",
    "    return text"
   ]
  },
  {
   "cell_type": "code",
   "execution_count": 96,
   "metadata": {},
   "outputs": [
    {
     "data": {
      "application/vnd.microsoft.datawrangler.viewer.v0+json": {
       "columns": [
        {
         "name": "index",
         "rawType": "int64",
         "type": "integer"
        },
        {
         "name": "id",
         "rawType": "int64",
         "type": "integer"
        },
        {
         "name": "created_on",
         "rawType": "object",
         "type": "string"
        },
        {
         "name": "title",
         "rawType": "object",
         "type": "string"
        },
        {
         "name": "description",
         "rawType": "object",
         "type": "string"
        },
        {
         "name": "tag",
         "rawType": "object",
         "type": "string"
        },
        {
         "name": "text",
         "rawType": "object",
         "type": "string"
        }
       ],
       "conversionMethod": "pd.DataFrame",
       "ref": "74a74efa-871d-427d-85fe-5460cfa9b204",
       "rows": [
        [
         "0",
         "6",
         "2020-02-20 06:43:18",
         "Comparison between YOLO and RCNN on real world videos",
         "Bringing theory to experiment is cool. We can easily train models in colab and find the results in minutes.",
         "computer-vision",
         "comparison yolo rcnn real world videos bringing theory experiment cool easily train models colab find results minutes"
        ],
        [
         "1",
         "7",
         "2020-02-20 06:47:21",
         "Show, Infer & Tell: Contextual Inference for Creative Captioning",
         "The beauty of the work lies in the way it architects the fundamental idea that humans look at the overall image and then individual pieces of it.\n",
         "computer-vision",
         "show infer tell contextual inference creative captioning beauty work lies way architects fundamental idea humans look overall image individual pieces"
        ],
        [
         "2",
         "9",
         "2020-02-24 16:24:45",
         "Awesome Graph Classification",
         "A collection of important graph embedding, classification and representation learning papers with implementations.",
         "other",
         "awesome graph classification collection important graph embedding classification representation learning papers implementations"
        ],
        [
         "3",
         "15",
         "2020-02-28 23:55:26",
         "Awesome Monte Carlo Tree Search",
         "A curated list of Monte Carlo tree search papers with implementations. ",
         "other",
         "awesome monte carlo tree search curated list monte carlo tree search papers implementations"
        ],
        [
         "4",
         "25",
         "2020-03-07 23:04:31",
         "AttentionWalk",
         "A PyTorch Implementation of \"Watch Your Step: Learning Node Embeddings via Graph Attention\" (NeurIPS 2018). ",
         "other",
         "attentionwalk pytorch implementation watch step learning node embeddings via graph attention neurips 2018"
        ],
        [
         "5",
         "27",
         "2020-03-07 23:18:15",
         "APPNP and PPNP",
         "A PyTorch implementation of \"Predict then Propagate: Graph Neural Networks meet Personalized PageRank\" (ICLR 2019). ",
         "other",
         "appnp ppnp pytorch implementation predict propagate graph neural networks meet personalized pagerank iclr 2019"
        ]
       ],
       "shape": {
        "columns": 6,
        "rows": 6
       }
      },
      "text/html": [
       "<div>\n",
       "<style scoped>\n",
       "    .dataframe tbody tr th:only-of-type {\n",
       "        vertical-align: middle;\n",
       "    }\n",
       "\n",
       "    .dataframe tbody tr th {\n",
       "        vertical-align: top;\n",
       "    }\n",
       "\n",
       "    .dataframe thead th {\n",
       "        text-align: right;\n",
       "    }\n",
       "</style>\n",
       "<table border=\"1\" class=\"dataframe\">\n",
       "  <thead>\n",
       "    <tr style=\"text-align: right;\">\n",
       "      <th></th>\n",
       "      <th>id</th>\n",
       "      <th>created_on</th>\n",
       "      <th>title</th>\n",
       "      <th>description</th>\n",
       "      <th>tag</th>\n",
       "      <th>text</th>\n",
       "    </tr>\n",
       "  </thead>\n",
       "  <tbody>\n",
       "    <tr>\n",
       "      <th>0</th>\n",
       "      <td>6</td>\n",
       "      <td>2020-02-20 06:43:18</td>\n",
       "      <td>Comparison between YOLO and RCNN on real world...</td>\n",
       "      <td>Bringing theory to experiment is cool. We can ...</td>\n",
       "      <td>computer-vision</td>\n",
       "      <td>comparison yolo rcnn real world videos bringin...</td>\n",
       "    </tr>\n",
       "    <tr>\n",
       "      <th>1</th>\n",
       "      <td>7</td>\n",
       "      <td>2020-02-20 06:47:21</td>\n",
       "      <td>Show, Infer &amp; Tell: Contextual Inference for C...</td>\n",
       "      <td>The beauty of the work lies in the way it arch...</td>\n",
       "      <td>computer-vision</td>\n",
       "      <td>show infer tell contextual inference creative ...</td>\n",
       "    </tr>\n",
       "    <tr>\n",
       "      <th>2</th>\n",
       "      <td>9</td>\n",
       "      <td>2020-02-24 16:24:45</td>\n",
       "      <td>Awesome Graph Classification</td>\n",
       "      <td>A collection of important graph embedding, cla...</td>\n",
       "      <td>other</td>\n",
       "      <td>awesome graph classification collection import...</td>\n",
       "    </tr>\n",
       "    <tr>\n",
       "      <th>3</th>\n",
       "      <td>15</td>\n",
       "      <td>2020-02-28 23:55:26</td>\n",
       "      <td>Awesome Monte Carlo Tree Search</td>\n",
       "      <td>A curated list of Monte Carlo tree search pape...</td>\n",
       "      <td>other</td>\n",
       "      <td>awesome monte carlo tree search curated list m...</td>\n",
       "    </tr>\n",
       "    <tr>\n",
       "      <th>4</th>\n",
       "      <td>25</td>\n",
       "      <td>2020-03-07 23:04:31</td>\n",
       "      <td>AttentionWalk</td>\n",
       "      <td>A PyTorch Implementation of \"Watch Your Step: ...</td>\n",
       "      <td>other</td>\n",
       "      <td>attentionwalk pytorch implementation watch ste...</td>\n",
       "    </tr>\n",
       "    <tr>\n",
       "      <th>5</th>\n",
       "      <td>27</td>\n",
       "      <td>2020-03-07 23:18:15</td>\n",
       "      <td>APPNP and PPNP</td>\n",
       "      <td>A PyTorch implementation of \"Predict then Prop...</td>\n",
       "      <td>other</td>\n",
       "      <td>appnp ppnp pytorch implementation predict prop...</td>\n",
       "    </tr>\n",
       "  </tbody>\n",
       "</table>\n",
       "</div>"
      ],
      "text/plain": [
       "   id           created_on                                              title  \\\n",
       "0   6  2020-02-20 06:43:18  Comparison between YOLO and RCNN on real world...   \n",
       "1   7  2020-02-20 06:47:21  Show, Infer & Tell: Contextual Inference for C...   \n",
       "2   9  2020-02-24 16:24:45                       Awesome Graph Classification   \n",
       "3  15  2020-02-28 23:55:26                    Awesome Monte Carlo Tree Search   \n",
       "4  25  2020-03-07 23:04:31                                      AttentionWalk   \n",
       "5  27  2020-03-07 23:18:15                                     APPNP and PPNP   \n",
       "\n",
       "                                         description              tag  \\\n",
       "0  Bringing theory to experiment is cool. We can ...  computer-vision   \n",
       "1  The beauty of the work lies in the way it arch...  computer-vision   \n",
       "2  A collection of important graph embedding, cla...            other   \n",
       "3  A curated list of Monte Carlo tree search pape...            other   \n",
       "4  A PyTorch Implementation of \"Watch Your Step: ...            other   \n",
       "5  A PyTorch implementation of \"Predict then Prop...            other   \n",
       "\n",
       "                                                text  \n",
       "0  comparison yolo rcnn real world videos bringin...  \n",
       "1  show infer tell contextual inference creative ...  \n",
       "2  awesome graph classification collection import...  \n",
       "3  awesome monte carlo tree search curated list m...  \n",
       "4  attentionwalk pytorch implementation watch ste...  \n",
       "5  appnp ppnp pytorch implementation predict prop...  "
      ]
     },
     "execution_count": 96,
     "metadata": {},
     "output_type": "execute_result"
    }
   ],
   "source": [
    "df.head(6)"
   ]
  },
  {
   "cell_type": "code",
   "execution_count": 98,
   "metadata": {},
   "outputs": [
    {
     "data": {
      "text/plain": [
       "'bachelorette predictor predict bachelorette winners profile images'"
      ]
     },
     "execution_count": 98,
     "metadata": {},
     "output_type": "execute_result"
    }
   ],
   "source": [
    "df.text.values[20]"
   ]
  },
  {
   "cell_type": "code",
   "execution_count": 97,
   "metadata": {},
   "outputs": [
    {
     "name": "stdout",
     "output_type": "stream",
     "text": [
      "coloring greyscale images coloring black white images neural networks\n"
     ]
    }
   ],
   "source": [
    "original_df = df.copy()\n",
    "df.text = df.text.apply(clean_text)\n",
    "print (original_df.text.values[10])"
   ]
  },
  {
   "cell_type": "code",
   "execution_count": null,
   "metadata": {},
   "outputs": [],
   "source": [
    "df = df.drop(columns=[\"id\", \"created_on\", \"title\", \"description\"], errors=\"ignore\")  # drop cols\n",
    "df = df.dropna(subset=[\"tag\"])  # drop nulls\n",
    "df = df[[\"text\", \"tag\"]]  # rearrange cols"
   ]
  },
  {
   "cell_type": "code",
   "execution_count": 101,
   "metadata": {},
   "outputs": [
    {
     "data": {
      "application/vnd.microsoft.datawrangler.viewer.v0+json": {
       "columns": [
        {
         "name": "index",
         "rawType": "int64",
         "type": "integer"
        },
        {
         "name": "text",
         "rawType": "object",
         "type": "string"
        },
        {
         "name": "tag",
         "rawType": "object",
         "type": "string"
        }
       ],
       "conversionMethod": "pd.DataFrame",
       "ref": "c97f409e-9db7-46fd-becf-6d234ca715d3",
       "rows": [
        [
         "0",
         "comparison yolo rcnn real world videos bringing theory experiment cool easily train models colab find results minutes",
         "computer-vision"
        ],
        [
         "1",
         "show infer tell contextual inference creative captioning beauty work lies way architects fundamental idea humans look overall image individual pieces",
         "computer-vision"
        ],
        [
         "2",
         "awesome graph classification collection important graph embedding classification representation learning papers implementations",
         "other"
        ],
        [
         "3",
         "awesome monte carlo tree search curated list monte carlo tree search papers implementations",
         "other"
        ],
        [
         "4",
         "attentionwalk pytorch implementation watch step learning node embeddings via graph attention neurips 2018",
         "other"
        ]
       ],
       "shape": {
        "columns": 2,
        "rows": 5
       }
      },
      "text/html": [
       "<div>\n",
       "<style scoped>\n",
       "    .dataframe tbody tr th:only-of-type {\n",
       "        vertical-align: middle;\n",
       "    }\n",
       "\n",
       "    .dataframe tbody tr th {\n",
       "        vertical-align: top;\n",
       "    }\n",
       "\n",
       "    .dataframe thead th {\n",
       "        text-align: right;\n",
       "    }\n",
       "</style>\n",
       "<table border=\"1\" class=\"dataframe\">\n",
       "  <thead>\n",
       "    <tr style=\"text-align: right;\">\n",
       "      <th></th>\n",
       "      <th>text</th>\n",
       "      <th>tag</th>\n",
       "    </tr>\n",
       "  </thead>\n",
       "  <tbody>\n",
       "    <tr>\n",
       "      <th>0</th>\n",
       "      <td>comparison yolo rcnn real world videos bringin...</td>\n",
       "      <td>computer-vision</td>\n",
       "    </tr>\n",
       "    <tr>\n",
       "      <th>1</th>\n",
       "      <td>show infer tell contextual inference creative ...</td>\n",
       "      <td>computer-vision</td>\n",
       "    </tr>\n",
       "    <tr>\n",
       "      <th>2</th>\n",
       "      <td>awesome graph classification collection import...</td>\n",
       "      <td>other</td>\n",
       "    </tr>\n",
       "    <tr>\n",
       "      <th>3</th>\n",
       "      <td>awesome monte carlo tree search curated list m...</td>\n",
       "      <td>other</td>\n",
       "    </tr>\n",
       "    <tr>\n",
       "      <th>4</th>\n",
       "      <td>attentionwalk pytorch implementation watch ste...</td>\n",
       "      <td>other</td>\n",
       "    </tr>\n",
       "  </tbody>\n",
       "</table>\n",
       "</div>"
      ],
      "text/plain": [
       "                                                text              tag\n",
       "0  comparison yolo rcnn real world videos bringin...  computer-vision\n",
       "1  show infer tell contextual inference creative ...  computer-vision\n",
       "2  awesome graph classification collection import...            other\n",
       "3  awesome monte carlo tree search curated list m...            other\n",
       "4  attentionwalk pytorch implementation watch ste...            other"
      ]
     },
     "execution_count": 101,
     "metadata": {},
     "output_type": "execute_result"
    }
   ],
   "source": [
    "df.head(5)"
   ]
  },
  {
   "cell_type": "code",
   "execution_count": 102,
   "metadata": {},
   "outputs": [
    {
     "data": {
      "application/vnd.microsoft.datawrangler.viewer.v0+json": {
       "columns": [
        {
         "name": "index",
         "rawType": "int64",
         "type": "integer"
        },
        {
         "name": "text",
         "rawType": "object",
         "type": "string"
        },
        {
         "name": "tag",
         "rawType": "object",
         "type": "string"
        }
       ],
       "conversionMethod": "pd.DataFrame",
       "ref": "68ca63d8-6eed-4ac8-a566-07f0e4a1ee8a",
       "rows": [
        [
         "759",
         "survey state explainable ai nlp overview operations explainability techniques currently available generating explanations nlp model predictions",
         "natural-language-processing"
        ],
        [
         "760",
         "topic modeling bert leveraging transformers class based tf idf create dense clusters allowing easily interpretable topics",
         "natural-language-processing"
        ],
        [
         "761",
         "openmmlab computer vision mmcv python library cv research supports many research projects object detection segmentation pose estimation action classification",
         "computer-vision"
        ],
        [
         "762",
         "machine learning methods explained examples common techniques used data science projects get know easy understand examples put practice ml projects",
         "other"
        ],
        [
         "763",
         "rasoee powerful web mobile application identifies food dishes given input image provides ingredient list along relevant recipes",
         "computer-vision"
        ]
       ],
       "shape": {
        "columns": 2,
        "rows": 5
       }
      },
      "text/html": [
       "<div>\n",
       "<style scoped>\n",
       "    .dataframe tbody tr th:only-of-type {\n",
       "        vertical-align: middle;\n",
       "    }\n",
       "\n",
       "    .dataframe tbody tr th {\n",
       "        vertical-align: top;\n",
       "    }\n",
       "\n",
       "    .dataframe thead th {\n",
       "        text-align: right;\n",
       "    }\n",
       "</style>\n",
       "<table border=\"1\" class=\"dataframe\">\n",
       "  <thead>\n",
       "    <tr style=\"text-align: right;\">\n",
       "      <th></th>\n",
       "      <th>text</th>\n",
       "      <th>tag</th>\n",
       "    </tr>\n",
       "  </thead>\n",
       "  <tbody>\n",
       "    <tr>\n",
       "      <th>759</th>\n",
       "      <td>survey state explainable ai nlp overview opera...</td>\n",
       "      <td>natural-language-processing</td>\n",
       "    </tr>\n",
       "    <tr>\n",
       "      <th>760</th>\n",
       "      <td>topic modeling bert leveraging transformers cl...</td>\n",
       "      <td>natural-language-processing</td>\n",
       "    </tr>\n",
       "    <tr>\n",
       "      <th>761</th>\n",
       "      <td>openmmlab computer vision mmcv python library ...</td>\n",
       "      <td>computer-vision</td>\n",
       "    </tr>\n",
       "    <tr>\n",
       "      <th>762</th>\n",
       "      <td>machine learning methods explained examples co...</td>\n",
       "      <td>other</td>\n",
       "    </tr>\n",
       "    <tr>\n",
       "      <th>763</th>\n",
       "      <td>rasoee powerful web mobile application identif...</td>\n",
       "      <td>computer-vision</td>\n",
       "    </tr>\n",
       "  </tbody>\n",
       "</table>\n",
       "</div>"
      ],
      "text/plain": [
       "                                                  text  \\\n",
       "759  survey state explainable ai nlp overview opera...   \n",
       "760  topic modeling bert leveraging transformers cl...   \n",
       "761  openmmlab computer vision mmcv python library ...   \n",
       "762  machine learning methods explained examples co...   \n",
       "763  rasoee powerful web mobile application identif...   \n",
       "\n",
       "                             tag  \n",
       "759  natural-language-processing  \n",
       "760  natural-language-processing  \n",
       "761              computer-vision  \n",
       "762                        other  \n",
       "763              computer-vision  "
      ]
     },
     "execution_count": 102,
     "metadata": {},
     "output_type": "execute_result"
    }
   ],
   "source": [
    "df.tail(5)"
   ]
  },
  {
   "cell_type": "code",
   "execution_count": 104,
   "metadata": {},
   "outputs": [
    {
     "name": "stdout",
     "output_type": "stream",
     "text": [
      "['mlops', 'other', 'computer-vision', 'natural-language-processing']\n"
     ]
    }
   ],
   "source": [
    "tags = train_df.tag.unique().tolist()\n",
    "print(tags)"
   ]
  },
  {
   "cell_type": "code",
   "execution_count": 107,
   "metadata": {},
   "outputs": [
    {
     "name": "stdout",
     "output_type": "stream",
     "text": [
      "Number of classes: 4\n"
     ]
    }
   ],
   "source": [
    "num_classes = len(tags)\n",
    "print(\"Number of classes:\",num_classes)"
   ]
  },
  {
   "cell_type": "code",
   "execution_count": null,
   "metadata": {},
   "outputs": [
    {
     "data": {
      "text/plain": [
       "{'mlops': 0,\n",
       " 'other': 1,\n",
       " 'computer-vision': 2,\n",
       " 'natural-language-processing': 3}"
      ]
     },
     "execution_count": 108,
     "metadata": {},
     "output_type": "execute_result"
    }
   ],
   "source": [
    "## Encoding \n",
    "\n",
    "class_to_index = {tag: i for i,tag in enumerate(tags)}\n",
    "class_to_index"
   ]
  },
  {
   "cell_type": "code",
   "execution_count": 109,
   "metadata": {},
   "outputs": [
    {
     "data": {
      "application/vnd.microsoft.datawrangler.viewer.v0+json": {
       "columns": [
        {
         "name": "index",
         "rawType": "int64",
         "type": "integer"
        },
        {
         "name": "text",
         "rawType": "object",
         "type": "string"
        },
        {
         "name": "tag",
         "rawType": "int64",
         "type": "integer"
        }
       ],
       "conversionMethod": "pd.DataFrame",
       "ref": "51b735cf-43d3-43e1-b0e1-efbaf4d95b9e",
       "rows": [
        [
         "0",
         "comparison yolo rcnn real world videos bringing theory experiment cool easily train models colab find results minutes",
         "2"
        ],
        [
         "1",
         "show infer tell contextual inference creative captioning beauty work lies way architects fundamental idea humans look overall image individual pieces",
         "2"
        ],
        [
         "2",
         "awesome graph classification collection important graph embedding classification representation learning papers implementations",
         "1"
        ],
        [
         "3",
         "awesome monte carlo tree search curated list monte carlo tree search papers implementations",
         "1"
        ],
        [
         "4",
         "attentionwalk pytorch implementation watch step learning node embeddings via graph attention neurips 2018",
         "1"
        ]
       ],
       "shape": {
        "columns": 2,
        "rows": 5
       }
      },
      "text/html": [
       "<div>\n",
       "<style scoped>\n",
       "    .dataframe tbody tr th:only-of-type {\n",
       "        vertical-align: middle;\n",
       "    }\n",
       "\n",
       "    .dataframe tbody tr th {\n",
       "        vertical-align: top;\n",
       "    }\n",
       "\n",
       "    .dataframe thead th {\n",
       "        text-align: right;\n",
       "    }\n",
       "</style>\n",
       "<table border=\"1\" class=\"dataframe\">\n",
       "  <thead>\n",
       "    <tr style=\"text-align: right;\">\n",
       "      <th></th>\n",
       "      <th>text</th>\n",
       "      <th>tag</th>\n",
       "    </tr>\n",
       "  </thead>\n",
       "  <tbody>\n",
       "    <tr>\n",
       "      <th>0</th>\n",
       "      <td>comparison yolo rcnn real world videos bringin...</td>\n",
       "      <td>2</td>\n",
       "    </tr>\n",
       "    <tr>\n",
       "      <th>1</th>\n",
       "      <td>show infer tell contextual inference creative ...</td>\n",
       "      <td>2</td>\n",
       "    </tr>\n",
       "    <tr>\n",
       "      <th>2</th>\n",
       "      <td>awesome graph classification collection import...</td>\n",
       "      <td>1</td>\n",
       "    </tr>\n",
       "    <tr>\n",
       "      <th>3</th>\n",
       "      <td>awesome monte carlo tree search curated list m...</td>\n",
       "      <td>1</td>\n",
       "    </tr>\n",
       "    <tr>\n",
       "      <th>4</th>\n",
       "      <td>attentionwalk pytorch implementation watch ste...</td>\n",
       "      <td>1</td>\n",
       "    </tr>\n",
       "  </tbody>\n",
       "</table>\n",
       "</div>"
      ],
      "text/plain": [
       "                                                text  tag\n",
       "0  comparison yolo rcnn real world videos bringin...    2\n",
       "1  show infer tell contextual inference creative ...    2\n",
       "2  awesome graph classification collection import...    1\n",
       "3  awesome monte carlo tree search curated list m...    1\n",
       "4  attentionwalk pytorch implementation watch ste...    1"
      ]
     },
     "execution_count": 109,
     "metadata": {},
     "output_type": "execute_result"
    }
   ],
   "source": [
    "# we use map function to map our class_to_index on our tag column\n",
    "\n",
    "df[\"tag\"] = df[\"tag\"].map(class_to_index)\n",
    "df.head(5)"
   ]
  },
  {
   "cell_type": "code",
   "execution_count": 112,
   "metadata": {},
   "outputs": [
    {
     "data": {
      "text/plain": [
       "['computer-vision', 'computer-vision', 'other', 'other', 'other']"
      ]
     },
     "execution_count": 112,
     "metadata": {},
     "output_type": "execute_result"
    }
   ],
   "source": [
    "index_to_class = {v:k for k, v in class_to_index.items()}\n",
    "\n",
    "def decode(indices, index_to_class):\n",
    "    return [index_to_class[index] for index in indices]\n",
    "\n",
    "\n",
    "decode(df.head(5)[\"tag\"].values, index_to_class=index_to_class)"
   ]
  },
  {
   "cell_type": "markdown",
   "metadata": {},
   "source": [
    "Tokenizing the text"
   ]
  }
 ],
 "metadata": {
  "kernelspec": {
   "display_name": "projects",
   "language": "python",
   "name": "python3"
  },
  "language_info": {
   "codemirror_mode": {
    "name": "ipython",
    "version": 3
   },
   "file_extension": ".py",
   "mimetype": "text/x-python",
   "name": "python",
   "nbconvert_exporter": "python",
   "pygments_lexer": "ipython3",
   "version": "3.9.21"
  }
 },
 "nbformat": 4,
 "nbformat_minor": 2
}
